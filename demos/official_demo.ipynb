{
 "cells": [
  {
   "cell_type": "markdown",
   "id": "8f7cd037-8962-46c2-a17c-f45fa6ce8dcb",
   "metadata": {},
   "source": [
    "# We show how to run rigid and/or piecewise rigid motion correction on the demoMovie.tif dataset found in the datasets folder of this repo"
   ]
  },
  {
   "cell_type": "code",
   "execution_count": 18,
   "id": "229191b2-91cf-4e04-9c06-f54094ab1498",
   "metadata": {},
   "outputs": [],
   "source": [
    "import numpy as np\n",
    "\n",
    "import jnormcorre\n",
    "import jnormcorre.motion_correction\n",
    "import jnormcorre.utils.registrationarrays as registrationarrays\n",
    "from jnormcorre.utils.registrationarrays import TiffArray\n",
    "\n",
    "import matplotlib.pyplot as plt\n",
    "import os\n",
    "import tifffile\n",
    "%load_ext autoreload\n"
   ]
  },
  {
   "cell_type": "markdown",
   "id": "d2be2447-ab63-4a1f-aa7e-777c0376f9cf",
   "metadata": {},
   "source": [
    "# Specify dataset\n",
    "\n",
    "## The below code loads the full dataset into memory. Any object that implements the lazy data loader API: https://jnormcorre.readthedocs.io/en/latest/api.html#jnormcorre-utils-lazy-array-api can be used here. This is very convenient for processing datasets that are too big to fit into RAM. Existing support exists for some "
   ]
  },
  {
   "cell_type": "code",
   "execution_count": 4,
   "id": "707a21c3-103a-40d5-ba6d-b706ae88ef1d",
   "metadata": {},
   "outputs": [],
   "source": [
    "filename = \"../datasets/demoMovie.tif\"\n",
    "\n",
    "#####\n",
    "##Run this if you want to load the dataset into RAM for processing\n",
    "#####\n",
    "\n",
    "data = tifffile.imread(filename).astype(\"float\")\n",
    "\n",
    "\n",
    "#####\n",
    "##If instead you want to define a lazy data loader, run the line below.\n",
    "#####\n",
    "# data = TiffArray(filename)"
   ]
  },
  {
   "cell_type": "markdown",
   "id": "d9d48ea7-ebed-4ba7-9c8a-eb6efb899f4c",
   "metadata": {},
   "source": [
    "# Run Motion Correction. See the params here https://jnormcorre.readthedocs.io/en/latest/api.html#motioncorrect-class for reference"
   ]
  },
  {
   "cell_type": "code",
   "execution_count": 4,
   "id": "5315859a-782e-4c86-bcdd-1464797d74f7",
   "metadata": {},
   "outputs": [],
   "source": [
    "## Rigid motion correction parameters\n",
    "max_shifts = (5, 5)\n",
    "frames_per_split = 500\n",
    "num_splits_to_process_rig = 5\n",
    "niter_rig = 4\n",
    "save_movie = False\n",
    "\n",
    "\n",
    "'''\n",
    "Parameters for estimating a piecewise rigid template \n",
    "Set pw_rigid = False if you do not want to to piecewise motion correction)\n",
    "'''\n",
    "pw_rigid = True\n",
    "strides = (50, 50)\n",
    "overlaps = (5, 5)\n",
    "max_deviation_rigid = 5\n",
    "\n",
    "'''\n",
    "1P Params (set this to a high pass filter kernel size  if you want to run the 1p motion correction pipeline)\n",
    "Examples: gSig_filt = (5, 5)\n",
    "'''\n",
    "gSig_filt = None\n",
    "\n",
    "corrector = jnormcorre.motion_correction.MotionCorrect(data, max_shifts=max_shifts, frames_per_split=frames_per_split,\n",
    "                                                num_splits_to_process_rig=num_splits_to_process_rig, strides=strides,\n",
    "                                                       overlaps=overlaps, \n",
    "                                                       max_deviation_rigid = max_deviation_rigid, niter_rig=niter_rig,\n",
    "                                                       pw_rigid = pw_rigid, gSig_filt=gSig_filt)\n",
    "\n",
    "\n",
    "frame_corrector, output_file = corrector.motion_correct(\n",
    "    template=None, save_movie=save_movie\n",
    ")"
   ]
  },
  {
   "cell_type": "markdown",
   "id": "cefcd0cc-aa1c-4a6c-a433-918ed48b7316",
   "metadata": {},
   "source": [
    "# Use the frame_corrector and the data variable to define a registration array; this is useful for treating the motion corrected output like any other standard np.ndarray"
   ]
  },
  {
   "cell_type": "code",
   "execution_count": null,
   "id": "4fc26026-3484-4bb4-ba27-58d9026d873f",
   "metadata": {},
   "outputs": [],
   "source": [
    "frame_corrector.batching = 100 #Make this smaller or larger as needed to avoid GPU errors\n",
    "motion_correction_dataloader = registrationarrays.RegistrationArray(frame_corrector, data, pw_rigid=False)"
   ]
  },
  {
   "cell_type": "markdown",
   "id": "26a3c048-1737-4fb4-8dda-6b69dfe922e5",
   "metadata": {},
   "source": [
    "# Generate Visualization: We can now directly generate side-by-side visualizations of the raw and motion corrected data"
   ]
  },
  {
   "cell_type": "markdown",
   "id": "cc8f16e3-4918-4119-86be-a6fe1be09297",
   "metadata": {},
   "source": [
    "## Option 1: Write the results to a .tiff file"
   ]
  },
  {
   "cell_type": "code",
   "execution_count": null,
   "id": "8cbb4df9-4304-4a95-8651-db357cd036b4",
   "metadata": {},
   "outputs": [],
   "source": [
    "time_slice = slice(0, 500, 1) #Change this to reflect which frames you want to compare\n",
    "raw_data_slice = data[time_slice]\n",
    "motion_corrected_data_slice = motion_correction_dataloader[time_slice]\n",
    "\n",
    "output = np.concatenate([raw_data_slice, motion_corrected_data_slice], axis = 2)\n",
    "\n",
    "tifffile.imwrite(\"diagnostic.tiff\", output)"
   ]
  },
  {
   "cell_type": "markdown",
   "id": "8492aa2f-1a41-4dc6-a85d-e87f620b9c03",
   "metadata": {},
   "source": [
    "# Option 2: (Recommended) If you have fastplotlib installed (see https://github.com/fastplotlib/fastplotlib/tree/main) you can use ImageWidget to interactively view the results in the notebook. "
   ]
  },
  {
   "cell_type": "code",
   "execution_count": 9,
   "id": "5a73f9b7-8752-42d4-8a1b-afa68f351a55",
   "metadata": {},
   "outputs": [],
   "source": [
    "from fastplotlib.widgets import ImageWidget\n",
    "iw = ImageWidget(data = [data, motion_correction_dataloader], \n",
    "                 names=[\"Raw\", \"Motion Corrected\"], \n",
    "                 histogram_widget = True)\n",
    "\n",
    "iw.show()"
   ]
  }
 ],
 "metadata": {
  "kernelspec": {
   "display_name": "Python 3 (ipykernel)",
   "language": "python",
   "name": "python3"
  },
  "language_info": {
   "codemirror_mode": {
    "name": "ipython",
    "version": 3
   },
   "file_extension": ".py",
   "mimetype": "text/x-python",
   "name": "python",
   "nbconvert_exporter": "python",
   "pygments_lexer": "ipython3",
   "version": "3.11.9"
  }
 },
 "nbformat": 4,
 "nbformat_minor": 5
}
